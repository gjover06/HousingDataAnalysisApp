{
 "cells": [
  {
   "cell_type": "code",
   "execution_count": 1,
   "id": "2904f1e9",
   "metadata": {},
   "outputs": [],
   "source": [
    "import pandas as pd\n",
    "import matplotlib.pyplot as plt\n"
   ]
  },
  {
   "cell_type": "code",
   "execution_count": 2,
   "id": "cc668b73",
   "metadata": {},
   "outputs": [],
   "source": [
    "the_population = pd.read_csv('PopChange.csv', usecols= [4,5,6])\n",
    "\n",
    "the_housing = pd.read_csv('Housing.csv', usecols= [0,1,2,4,6])"
   ]
  },
  {
   "cell_type": "code",
   "execution_count": 3,
   "id": "f6c6d50b",
   "metadata": {},
   "outputs": [
    {
     "name": "stdout",
     "output_type": "stream",
     "text": [
      "<class 'pandas.core.frame.DataFrame'>\n",
      "RangeIndex: 557 entries, 0 to 556\n",
      "Data columns (total 3 columns):\n",
      " #   Column      Non-Null Count  Dtype\n",
      "---  ------      --------------  -----\n",
      " 0   Pop Apr 1   557 non-null    int64\n",
      " 1   Pop Jul 1   557 non-null    int64\n",
      " 2   Change Pop  557 non-null    int64\n",
      "dtypes: int64(3)\n",
      "memory usage: 13.2 KB\n"
     ]
    }
   ],
   "source": [
    "the_population.info()"
   ]
  },
  {
   "cell_type": "code",
   "execution_count": 4,
   "id": "1f5308d9",
   "metadata": {},
   "outputs": [
    {
     "data": {
      "text/html": [
       "<div>\n",
       "<style scoped>\n",
       "    .dataframe tbody tr th:only-of-type {\n",
       "        vertical-align: middle;\n",
       "    }\n",
       "\n",
       "    .dataframe tbody tr th {\n",
       "        vertical-align: top;\n",
       "    }\n",
       "\n",
       "    .dataframe thead th {\n",
       "        text-align: right;\n",
       "    }\n",
       "</style>\n",
       "<table border=\"1\" class=\"dataframe\">\n",
       "  <thead>\n",
       "    <tr style=\"text-align: right;\">\n",
       "      <th></th>\n",
       "      <th>Pop Apr 1</th>\n",
       "      <th>Pop Jul 1</th>\n",
       "      <th>Change Pop</th>\n",
       "    </tr>\n",
       "  </thead>\n",
       "  <tbody>\n",
       "    <tr>\n",
       "      <th>count</th>\n",
       "      <td>5.570000e+02</td>\n",
       "      <td>5.570000e+02</td>\n",
       "      <td>557.000000</td>\n",
       "    </tr>\n",
       "    <tr>\n",
       "      <th>mean</th>\n",
       "      <td>5.655731e+04</td>\n",
       "      <td>5.575848e+04</td>\n",
       "      <td>-798.829443</td>\n",
       "    </tr>\n",
       "    <tr>\n",
       "      <th>std</th>\n",
       "      <td>1.581271e+05</td>\n",
       "      <td>1.360865e+05</td>\n",
       "      <td>22711.352870</td>\n",
       "    </tr>\n",
       "    <tr>\n",
       "      <th>min</th>\n",
       "      <td>1.351900e+04</td>\n",
       "      <td>1.261900e+04</td>\n",
       "      <td>-531004.000000</td>\n",
       "    </tr>\n",
       "    <tr>\n",
       "      <th>25%</th>\n",
       "      <td>3.195300e+04</td>\n",
       "      <td>3.212000e+04</td>\n",
       "      <td>-1338.000000</td>\n",
       "    </tr>\n",
       "    <tr>\n",
       "      <th>50%</th>\n",
       "      <td>4.297900e+04</td>\n",
       "      <td>4.354500e+04</td>\n",
       "      <td>-196.000000</td>\n",
       "    </tr>\n",
       "    <tr>\n",
       "      <th>75%</th>\n",
       "      <td>6.170000e+04</td>\n",
       "      <td>6.169300e+04</td>\n",
       "      <td>1294.000000</td>\n",
       "    </tr>\n",
       "    <tr>\n",
       "      <th>max</th>\n",
       "      <td>3.726157e+06</td>\n",
       "      <td>3.195153e+06</td>\n",
       "      <td>22363.000000</td>\n",
       "    </tr>\n",
       "  </tbody>\n",
       "</table>\n",
       "</div>"
      ],
      "text/plain": [
       "          Pop Apr 1     Pop Jul 1     Change Pop\n",
       "count  5.570000e+02  5.570000e+02     557.000000\n",
       "mean   5.655731e+04  5.575848e+04    -798.829443\n",
       "std    1.581271e+05  1.360865e+05   22711.352870\n",
       "min    1.351900e+04  1.261900e+04 -531004.000000\n",
       "25%    3.195300e+04  3.212000e+04   -1338.000000\n",
       "50%    4.297900e+04  4.354500e+04    -196.000000\n",
       "75%    6.170000e+04  6.169300e+04    1294.000000\n",
       "max    3.726157e+06  3.195153e+06   22363.000000"
      ]
     },
     "execution_count": 4,
     "metadata": {},
     "output_type": "execute_result"
    }
   ],
   "source": [
    "the_population.describe()"
   ]
  },
  {
   "cell_type": "code",
   "execution_count": 5,
   "id": "0c23cb46",
   "metadata": {},
   "outputs": [
    {
     "data": {
      "text/plain": [
       "array([[<AxesSubplot:title={'center':'Pop Apr 1'}>,\n",
       "        <AxesSubplot:title={'center':'Pop Jul 1'}>],\n",
       "       [<AxesSubplot:title={'center':'Change Pop'}>, <AxesSubplot:>]],\n",
       "      dtype=object)"
      ]
     },
     "execution_count": 5,
     "metadata": {},
     "output_type": "execute_result"
    },
    {
     "data": {
      "image/png": "[encoded data removed]",
      "text/plain": [
       "<Figure size 432x288 with 4 Axes>"
      ]
     },
     "metadata": {
      "needs_background": "light"
     },
     "output_type": "display_data"
    }
   ],
   "source": [
    "the_population.hist()"
   ]
  },
  {
   "cell_type": "code",
   "execution_count": null,
   "id": "d7fe60dc",
   "metadata": {},
   "outputs": [],
   "source": []
  }
 ],
 "metadata": {
  "kernelspec": {
   "display_name": "Python 3",
   "language": "python",
   "name": "python3"
  },
  "language_info": {
   "codemirror_mode": {
    "name": "ipython",
    "version": 3
   },
   "file_extension": ".py",
   "mimetype": "text/x-python",
   "name": "python",
   "nbconvert_exporter": "python",
   "pygments_lexer": "ipython3",
   "version": "3.9.1"
  }
 },
 "nbformat": 4,
 "nbformat_minor": 5
}
